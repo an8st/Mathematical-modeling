{
  "nbformat": 4,
  "nbformat_minor": 0,
  "metadata": {
    "colab": {
      "provenance": []
    },
    "kernelspec": {
      "name": "python3",
      "display_name": "Python 3"
    },
    "language_info": {
      "name": "python"
    }
  },
  "cells": [
    {
      "cell_type": "markdown",
      "source": [
        "*Записать некоторую матрицу плотности ротатора, проверить её на\n",
        "наличие противоречий.*"
      ],
      "metadata": {
        "id": "bPWJ1oWMZv2R"
      }
    },
    {
      "cell_type": "code",
      "execution_count": null,
      "metadata": {
        "id": "pCaf0ENVZmwD"
      },
      "outputs": [],
      "source": [
        "import numpy as np\n",
        "from sympy import symbols, Matrix, sqrt\n",
        "from sympy.physics.wigner import wigner_3j\n",
        "from math import pi"
      ]
    },
    {
      "cell_type": "code",
      "source": [
        "matrix = np.array([\n",
        "    [0.1, 0.3, 0.2, 0.7, 0.5],\n",
        "    [0.3, 0.1, 0.2, 0.1, 0.9],\n",
        "    [0.2, 0.2, 0.1, 0.4, 0.3],\n",
        "    [0.7, 0.1, 0.4, 0.1, 0.1],\n",
        "    [0.5, 0.9, 0.3, 0.1, 0.6]\n",
        "])"
      ],
      "metadata": {
        "id": "8QNFrz6BZr4d"
      },
      "execution_count": null,
      "outputs": []
    },
    {
      "cell_type": "code",
      "source": [
        "np.trace(matrix)"
      ],
      "metadata": {
        "colab": {
          "base_uri": "https://localhost:8080/"
        },
        "id": "X36eByINcIpv",
        "outputId": "b40fea83-4a8a-4e3c-c515-b464598b3d7f"
      },
      "execution_count": null,
      "outputs": [
        {
          "output_type": "execute_result",
          "data": {
            "text/plain": [
              "1.0"
            ]
          },
          "metadata": {},
          "execution_count": 3
        }
      ]
    },
    {
      "cell_type": "code",
      "source": [
        "matrix_trans = np.transpose(matrix)\n",
        "if matrix_trans.all() == matrix.all():\n",
        "  print(\"Матрица симметричная.\")\n",
        "else:\n",
        "  print(\"Матрица несимметричная.\")"
      ],
      "metadata": {
        "colab": {
          "base_uri": "https://localhost:8080/"
        },
        "id": "dV6cqhxddQeE",
        "outputId": "80bec946-d62f-468b-b374-90d0cc0c6181"
      },
      "execution_count": null,
      "outputs": [
        {
          "output_type": "stream",
          "name": "stdout",
          "text": [
            "Матрица симметричная.\n"
          ]
        }
      ]
    },
    {
      "cell_type": "markdown",
      "source": [
        "С помощью матриц Tkq найти коэффициенты разложения матрицы плотности по неприводимым компонентам ρkq\n",
        "![image.png](data:image/png;base64,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)"
      ],
      "metadata": {
        "id": "DEwmhwO_eEUH"
      }
    },
    {
      "cell_type": "code",
      "source": [
        "l = 2\n",
        "Tkq = np.zeros((2 * l + 1, 2 * (2 * l + 1) + 1, 2 * l + 1, 2 * l + 1))\n",
        "for k in range(0, 2 * l + 1):\n",
        "  for q in range(-k, k + 1):\n",
        "    for ms in range(-l, l + 1):\n",
        "      for mc in range(-l, l + 1):\n",
        "        Tkq[k, q, ms, mc] = np.sqrt(2 * k + 1)*(-1)**(l - ms)*wigner_3j(l, l, k, -ms, mc, q)\n",
        "\n",
        "for k in range(0, 2*l + 1):\n",
        "  for q in range(-k, k + 1):\n",
        "    print(\"k =\", k, \" q =\", q)\n",
        "    print(np.array_str(Tkq[k, q], precision=3, suppress_small=True), \"\\n\")\n"
      ],
      "metadata": {
        "colab": {
          "base_uri": "https://localhost:8080/"
        },
        "id": "4_aZj8SFd6K3",
        "outputId": "9f34f5f7-a425-4f86-f5a4-598976b6ca0e"
      },
      "execution_count": null,
      "outputs": [
        {
          "output_type": "stream",
          "name": "stdout",
          "text": [
            "k = 0  q = 0\n",
            "[[0.447 0.    0.    0.    0.   ]\n",
            " [0.    0.447 0.    0.    0.   ]\n",
            " [0.    0.    0.447 0.    0.   ]\n",
            " [0.    0.    0.    0.447 0.   ]\n",
            " [0.    0.    0.    0.    0.447]] \n",
            "\n",
            "k = 1  q = -1\n",
            "[[ 0.    -0.548  0.     0.     0.   ]\n",
            " [ 0.     0.    -0.447  0.     0.   ]\n",
            " [ 0.     0.     0.     0.     0.   ]\n",
            " [ 0.     0.     0.     0.    -0.447]\n",
            " [-0.548  0.     0.     0.     0.   ]] \n",
            "\n",
            "k = 1  q = 0\n",
            "[[ 0.     0.     0.     0.     0.   ]\n",
            " [ 0.    -0.316  0.     0.     0.   ]\n",
            " [ 0.     0.    -0.632  0.     0.   ]\n",
            " [ 0.     0.     0.     0.632  0.   ]\n",
            " [ 0.     0.     0.     0.     0.316]] \n",
            "\n",
            "k = 1  q = 1\n",
            "[[0.    0.    0.    0.    0.548]\n",
            " [0.548 0.    0.    0.    0.   ]\n",
            " [0.    0.447 0.    0.    0.   ]\n",
            " [0.    0.    0.    0.    0.   ]\n",
            " [0.    0.    0.    0.447 0.   ]] \n",
            "\n",
            "k = 2  q = -2\n",
            "[[0.    0.    0.535 0.    0.   ]\n",
            " [0.    0.    0.    0.    0.   ]\n",
            " [0.    0.    0.    0.    0.   ]\n",
            " [0.535 0.    0.    0.    0.   ]\n",
            " [0.    0.655 0.    0.    0.   ]] \n",
            "\n",
            "k = 2  q = -1\n",
            "[[ 0.     0.267  0.     0.     0.   ]\n",
            " [ 0.     0.     0.655  0.     0.   ]\n",
            " [ 0.     0.     0.     0.     0.   ]\n",
            " [ 0.     0.     0.     0.    -0.655]\n",
            " [-0.267  0.     0.     0.     0.   ]] \n",
            "\n",
            "k = 2  q = 0\n",
            "[[-0.535  0.     0.     0.     0.   ]\n",
            " [ 0.    -0.267  0.     0.     0.   ]\n",
            " [ 0.     0.     0.535  0.     0.   ]\n",
            " [ 0.     0.     0.     0.535  0.   ]\n",
            " [ 0.     0.     0.     0.    -0.267]] \n",
            "\n",
            "k = 2  q = 1\n",
            "[[ 0.     0.     0.     0.     0.267]\n",
            " [-0.267  0.     0.     0.     0.   ]\n",
            " [ 0.    -0.655  0.     0.     0.   ]\n",
            " [ 0.     0.     0.     0.     0.   ]\n",
            " [ 0.     0.     0.     0.655  0.   ]] \n",
            "\n",
            "k = 2  q = 2\n",
            "[[0.    0.    0.    0.535 0.   ]\n",
            " [0.    0.    0.    0.    0.655]\n",
            " [0.535 0.    0.    0.    0.   ]\n",
            " [0.    0.    0.    0.    0.   ]\n",
            " [0.    0.    0.    0.    0.   ]] \n",
            "\n",
            "k = 3  q = -3\n",
            "[[ 0.     0.     0.     0.     0.   ]\n",
            " [ 0.     0.     0.     0.     0.   ]\n",
            " [ 0.     0.     0.     0.     0.   ]\n",
            " [ 0.    -0.707  0.     0.     0.   ]\n",
            " [ 0.     0.    -0.707  0.     0.   ]] \n",
            "\n",
            "k = 3  q = -2\n",
            "[[ 0.     0.    -0.707  0.     0.   ]\n",
            " [ 0.     0.     0.     0.     0.   ]\n",
            " [ 0.     0.     0.     0.     0.   ]\n",
            " [ 0.707  0.     0.     0.     0.   ]\n",
            " [ 0.     0.     0.     0.     0.   ]] \n",
            "\n",
            "k = 3  q = -1\n",
            "[[ 0.     0.447  0.     0.     0.   ]\n",
            " [ 0.     0.    -0.548  0.     0.   ]\n",
            " [ 0.     0.     0.     0.     0.   ]\n",
            " [ 0.     0.     0.     0.    -0.548]\n",
            " [ 0.447  0.     0.     0.     0.   ]] \n",
            "\n",
            "k = 3  q = 0\n",
            "[[ 0.     0.     0.     0.     0.   ]\n",
            " [ 0.     0.632  0.     0.     0.   ]\n",
            " [ 0.     0.    -0.316  0.     0.   ]\n",
            " [ 0.     0.     0.     0.316  0.   ]\n",
            " [ 0.     0.     0.     0.    -0.632]] \n",
            "\n",
            "k = 3  q = 1\n",
            "[[ 0.     0.     0.     0.    -0.447]\n",
            " [-0.447  0.     0.     0.     0.   ]\n",
            " [ 0.     0.548  0.     0.     0.   ]\n",
            " [ 0.     0.     0.     0.     0.   ]\n",
            " [ 0.     0.     0.     0.548  0.   ]] \n",
            "\n",
            "k = 3  q = 2\n",
            "[[ 0.     0.     0.     0.707  0.   ]\n",
            " [ 0.     0.     0.     0.     0.   ]\n",
            " [-0.707  0.     0.     0.     0.   ]\n",
            " [ 0.     0.     0.     0.     0.   ]\n",
            " [ 0.     0.     0.     0.     0.   ]] \n",
            "\n",
            "k = 3  q = 3\n",
            "[[0.    0.    0.    0.    0.   ]\n",
            " [0.    0.    0.    0.707 0.   ]\n",
            " [0.    0.    0.    0.    0.707]\n",
            " [0.    0.    0.    0.    0.   ]\n",
            " [0.    0.    0.    0.    0.   ]] \n",
            "\n",
            "k = 4  q = -4\n",
            "[[0. 0. 0. 0. 0.]\n",
            " [0. 0. 0. 0. 0.]\n",
            " [0. 0. 0. 0. 0.]\n",
            " [0. 0. 1. 0. 0.]\n",
            " [0. 0. 0. 0. 0.]] \n",
            "\n",
            "k = 4  q = -3\n",
            "[[ 0.     0.     0.     0.     0.   ]\n",
            " [ 0.     0.     0.     0.     0.   ]\n",
            " [ 0.     0.     0.     0.     0.   ]\n",
            " [ 0.    -0.707  0.     0.     0.   ]\n",
            " [ 0.     0.     0.707  0.     0.   ]] \n",
            "\n",
            "k = 4  q = -2\n",
            "[[ 0.     0.     0.463  0.     0.   ]\n",
            " [ 0.     0.     0.     0.     0.   ]\n",
            " [ 0.     0.     0.     0.     0.   ]\n",
            " [ 0.463  0.     0.     0.     0.   ]\n",
            " [ 0.    -0.756  0.     0.     0.   ]] \n",
            "\n",
            "k = 4  q = -1\n",
            "[[ 0.    -0.655  0.     0.     0.   ]\n",
            " [ 0.     0.     0.267  0.     0.   ]\n",
            " [ 0.     0.     0.     0.     0.   ]\n",
            " [ 0.     0.     0.     0.    -0.267]\n",
            " [ 0.655  0.     0.     0.     0.   ]] \n",
            "\n",
            "k = 4  q = 0\n",
            "[[ 0.717  0.     0.     0.     0.   ]\n",
            " [ 0.    -0.478  0.     0.     0.   ]\n",
            " [ 0.     0.     0.12   0.     0.   ]\n",
            " [ 0.     0.     0.     0.12   0.   ]\n",
            " [ 0.     0.     0.     0.    -0.478]] \n",
            "\n",
            "k = 4  q = 1\n",
            "[[ 0.     0.     0.     0.    -0.655]\n",
            " [ 0.655  0.     0.     0.     0.   ]\n",
            " [ 0.    -0.267  0.     0.     0.   ]\n",
            " [ 0.     0.     0.     0.     0.   ]\n",
            " [ 0.     0.     0.     0.267  0.   ]] \n",
            "\n",
            "k = 4  q = 2\n",
            "[[ 0.     0.     0.     0.463  0.   ]\n",
            " [ 0.     0.     0.     0.    -0.756]\n",
            " [ 0.463  0.     0.     0.     0.   ]\n",
            " [ 0.     0.     0.     0.     0.   ]\n",
            " [ 0.     0.     0.     0.     0.   ]] \n",
            "\n",
            "k = 4  q = 3\n",
            "[[ 0.     0.     0.     0.     0.   ]\n",
            " [ 0.     0.     0.     0.707  0.   ]\n",
            " [ 0.     0.     0.     0.    -0.707]\n",
            " [ 0.     0.     0.     0.     0.   ]\n",
            " [ 0.     0.     0.     0.     0.   ]] \n",
            "\n",
            "k = 4  q = 4\n",
            "[[0. 0. 0. 0. 0.]\n",
            " [0. 0. 0. 0. 0.]\n",
            " [0. 0. 0. 1. 0.]\n",
            " [0. 0. 0. 0. 0.]\n",
            " [0. 0. 0. 0. 0.]] \n",
            "\n"
          ]
        }
      ]
    },
    {
      "cell_type": "code",
      "source": [
        "matrix_ro = np.zeros((2*l + 1, 2*(2*l + 1) + 1))\n",
        "for k in range(0, 2*l + 1):\n",
        "  for q in range(-k, k + 1):\n",
        "    matrix_ro[k, q] = np.sum(matrix * Tkq[k, q])\n",
        "print(np.array_str(matrix_ro, precision=3, suppress_small=True), \"\\n\")"
      ],
      "metadata": {
        "colab": {
          "base_uri": "https://localhost:8080/"
        },
        "id": "e7ghZlpkiPAo",
        "outputId": "01e434a8-eb40-4171-c052-d32cd1a2b45b"
      },
      "execution_count": null,
      "outputs": [
        {
          "output_type": "stream",
          "name": "stdout",
          "text": [
            "[[ 0.447  0.     0.     0.     0.     0.     0.     0.     0.     0.\n",
            "   0.   ]\n",
            " [ 0.158  0.572  0.     0.     0.     0.     0.     0.     0.     0.\n",
            "  -0.572]\n",
            " [-0.134 -0.012  1.07   0.     0.     0.     0.     0.     0.     1.07\n",
            "   0.012]\n",
            " [-0.316 -0.193  0.354  0.283  0.     0.     0.     0.    -0.283  0.354\n",
            "   0.193]\n",
            " [-0.239 -0.158 -0.264 -0.141  0.4    0.     0.     0.4    0.141 -0.264\n",
            "   0.158]] \n",
            "\n"
          ]
        }
      ]
    },
    {
      "cell_type": "code",
      "source": [
        "# проверим корректность разложения\n",
        "print(np.array_str(sum([matrix_ro[k,q]*Tkq[k,q] for k in range(0, 2*l+1) for q in range(-k, k+1)]), precision=3, suppress_small=True), \"\\n\")"
      ],
      "metadata": {
        "colab": {
          "base_uri": "https://localhost:8080/"
        },
        "id": "OxL0TfKpjf14",
        "outputId": "1d7c0edb-e732-4cac-bc39-8a1ae406cf11"
      },
      "execution_count": null,
      "outputs": [
        {
          "output_type": "stream",
          "name": "stdout",
          "text": [
            "[[0.1 0.3 0.2 0.7 0.5]\n",
            " [0.3 0.1 0.2 0.1 0.9]\n",
            " [0.2 0.2 0.1 0.4 0.3]\n",
            " [0.7 0.1 0.4 0.1 0.1]\n",
            " [0.5 0.9 0.3 0.1 0.6]] \n",
            "\n"
          ]
        }
      ]
    },
    {
      "cell_type": "markdown",
      "source": [
        "Зная правило преобразования матриц Tkq при вращении системы координат, найти неприводимые компоненты ρ'kq матрицы плотности в новой системе координат, повёрнутой на заданные углы Эйлера"
      ],
      "metadata": {
        "id": "Pl_Z25MQozRt"
      }
    },
    {
      "cell_type": "code",
      "source": [
        "!pip install spherical"
      ],
      "metadata": {
        "colab": {
          "base_uri": "https://localhost:8080/"
        },
        "id": "bIw6hTeylBOB",
        "outputId": "45713bda-6b46-4b58-c62a-c83158b905dd"
      },
      "execution_count": null,
      "outputs": [
        {
          "output_type": "stream",
          "name": "stdout",
          "text": [
            "Collecting spherical\n",
            "  Downloading spherical-1.0.14-py3-none-any.whl (55 kB)\n",
            "\u001b[2K     \u001b[90m━━━━━━━━━━━━━━━━━━━━━━━━━━━━━━━━━━━━━━━━\u001b[0m \u001b[32m55.6/55.6 kB\u001b[0m \u001b[31m1.1 MB/s\u001b[0m eta \u001b[36m0:00:00\u001b[0m\n",
            "\u001b[?25hRequirement already satisfied: numba>=0.55 in /usr/local/lib/python3.10/dist-packages (from spherical) (0.58.1)\n",
            "Requirement already satisfied: numpy>=1.20 in /usr/local/lib/python3.10/dist-packages (from spherical) (1.23.5)\n",
            "Collecting quaternionic>=1.0 (from spherical)\n",
            "  Downloading quaternionic-1.0.8-py3-none-any.whl (35 kB)\n",
            "Requirement already satisfied: scipy>=1.5 in /usr/local/lib/python3.10/dist-packages (from spherical) (1.11.4)\n",
            "Collecting spinsfast>=104.2020.8 (from spherical)\n",
            "  Downloading spinsfast-2022.4.4-cp310-cp310-manylinux_2_17_x86_64.manylinux2014_x86_64.whl (784 kB)\n",
            "\u001b[2K     \u001b[90m━━━━━━━━━━━━━━━━━━━━━━━━━━━━━━━━━━━━━━━━\u001b[0m \u001b[32m784.8/784.8 kB\u001b[0m \u001b[31m10.5 MB/s\u001b[0m eta \u001b[36m0:00:00\u001b[0m\n",
            "\u001b[?25hRequirement already satisfied: llvmlite<0.42,>=0.41.0dev0 in /usr/local/lib/python3.10/dist-packages (from numba>=0.55->spherical) (0.41.1)\n",
            "Installing collected packages: spinsfast, quaternionic, spherical\n",
            "Successfully installed quaternionic-1.0.8 spherical-1.0.14 spinsfast-2022.4.4\n"
          ]
        }
      ]
    },
    {
      "cell_type": "code",
      "source": [
        "import spherical\n",
        "import quaternionic"
      ],
      "metadata": {
        "id": "jmfsNlO4mXFf"
      },
      "execution_count": null,
      "outputs": []
    },
    {
      "cell_type": "code",
      "source": [
        "alpha = np.pi\n",
        "beta = 2 * np.pi\n",
        "gamma = 0\n",
        "R = quaternionic.array.from_euler_angles(alpha, beta, gamma)\n",
        "wigner = spherical.Wigner(2*l)\n",
        "D = wigner.D(1/R)\n",
        "matrix_ro_new = np.zeros((2*l + 1, 2 * (2 * l + 1) + 1))\n",
        "for k in range(2*l+1):\n",
        "  for qp in range(-k, k+1):\n",
        "    matrix_ro_new[k, qp] = np.real(sum(np.conjugate(D[wigner.Dindex(k, q, qp)])*matrix_ro[k, q] for q in range(-k, k+1)))\n",
        "print(np.array_str(matrix_ro_new, precision=3, suppress_small=True), \"\\n\")"
      ],
      "metadata": {
        "colab": {
          "base_uri": "https://localhost:8080/"
        },
        "id": "6_mUlfxuopjs",
        "outputId": "5eb2b2b8-073f-4cbb-f674-c9aa8f9a3fb2"
      },
      "execution_count": null,
      "outputs": [
        {
          "output_type": "stream",
          "name": "stdout",
          "text": [
            "[[ 0.447  0.     0.     0.     0.     0.     0.     0.     0.     0.\n",
            "   0.   ]\n",
            " [ 0.158 -0.572  0.     0.     0.     0.     0.     0.     0.     0.\n",
            "   0.572]\n",
            " [-0.134  0.012  1.07   0.     0.     0.     0.     0.     0.     1.07\n",
            "  -0.012]\n",
            " [-0.316  0.193  0.354 -0.283  0.     0.     0.     0.     0.283  0.354\n",
            "  -0.193]\n",
            " [-0.239  0.158 -0.264  0.141  0.4    0.     0.     0.4   -0.141 -0.264\n",
            "  -0.158]] \n",
            "\n"
          ]
        }
      ]
    },
    {
      "cell_type": "markdown",
      "source": [
        "Используя неприводимые компоненты матрицы плотности построить матрицу плотности ρ′ в первоначальном представлении проекций момента, но в новой системе координат"
      ],
      "metadata": {
        "id": "R0FaefZzpNf1"
      }
    },
    {
      "cell_type": "code",
      "source": [
        "result = sum([matrix_ro_new[k, q]*Tkq[k, q] for k in range(0, 2*l+1) for q in range (-k, k+1)])\n",
        "np.round(result, 3)"
      ],
      "metadata": {
        "colab": {
          "base_uri": "https://localhost:8080/"
        },
        "id": "BVsZAm45pDwj",
        "outputId": "1542b44a-58ac-4364-fe2f-048247d99f9f"
      },
      "execution_count": null,
      "outputs": [
        {
          "output_type": "execute_result",
          "data": {
            "text/plain": [
              "array([[ 0.1, -0.3,  0.2,  0.7, -0.5],\n",
              "       [-0.3,  0.1, -0.2, -0.1,  0.9],\n",
              "       [ 0.2, -0.2,  0.1,  0.4, -0.3],\n",
              "       [ 0.7, -0.1,  0.4,  0.1, -0.1],\n",
              "       [-0.5,  0.9, -0.3, -0.1,  0.6]])"
            ]
          },
          "metadata": {},
          "execution_count": 11
        }
      ]
    }
  ]
}